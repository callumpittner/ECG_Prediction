{
  "nbformat": 4,
  "nbformat_minor": 0,
  "metadata": {
    "colab": {
      "name": "ECG_Feat_Prediction.ipynb",
      "provenance": [],
      "collapsed_sections": []
    },
    "kernelspec": {
      "name": "python3",
      "display_name": "Python 3"
    },
    "language_info": {
      "name": "python"
    }
  },
  "cells": [
    {
      "cell_type": "code",
      "execution_count": null,
      "metadata": {
        "id": "cll3FW2C49t5"
      },
      "outputs": [],
      "source": [
        "from sklearn.decomposition import PCA\n",
        "import pandas as pd\n",
        "import numpy as np\n",
        "from sklearn.metrics import classification_report, confusion_matrix, plot_confusion_matrix\n",
        "import matplotlib.pyplot as plt\n",
        "from sklearn.model_selection import RandomizedSearchCV\n",
        "from sklearn.ensemble import RandomForestClassifier\n",
        "from scipy.stats import uniform as sp_randFloat\n",
        "from scipy.stats import randint as sp_randInt"
      ]
    },
    {
      "cell_type": "code",
      "source": [
        "# train feature set\n",
        "train_feat = pd.read_csv('train_feat.csv')"
      ],
      "metadata": {
        "id": "kfcvp6w_5G1Z"
      },
      "execution_count": null,
      "outputs": []
    },
    {
      "cell_type": "code",
      "source": [
        "# convert classes to int\n",
        "train_feat['Type'] = train_feat['Type'].map({'O': 0, 'N': 1, 'A': 2, '~': 3}).astype(int)"
      ],
      "metadata": {
        "id": "SzPtubN0xzKH"
      },
      "execution_count": null,
      "outputs": []
    },
    {
      "cell_type": "code",
      "source": [
        "# get just values and labels, and delete rows with nulls\n",
        "train_feat.dropna(inplace=True)\n",
        "print(train_feat.isnull().any().any())\n",
        "X = train_feat.iloc[:,2:]\n",
        "y = train_feat.iloc[:,1]"
      ],
      "metadata": {
        "id": "iHksf-8w6UG1",
        "colab": {
          "base_uri": "https://localhost:8080/"
        },
        "outputId": "a0385895-df27-4822-e55a-a1adcd8d90d0"
      },
      "execution_count": null,
      "outputs": [
        {
          "output_type": "stream",
          "name": "stdout",
          "text": [
            "False\n"
          ]
        }
      ]
    },
    {
      "cell_type": "code",
      "source": [
        "# unbalanced classes\n",
        "y.value_counts()"
      ],
      "metadata": {
        "colab": {
          "base_uri": "https://localhost:8080/"
        },
        "id": "zjkaFYv2yZp-",
        "outputId": "77faa866-6ec3-4ac9-8a37-76b3fb56bcfb"
      },
      "execution_count": null,
      "outputs": [
        {
          "output_type": "execute_result",
          "data": {
            "text/plain": [
              "1    7719\n",
              "0    3853\n",
              "2    1160\n",
              "3     322\n",
              "Name: Type, dtype: int64"
            ]
          },
          "metadata": {},
          "execution_count": 5
        }
      ]
    },
    {
      "cell_type": "code",
      "source": [
        "# upsampling - NOT USED IN FINAL MODEL\n",
        "# from imblearn.over_sampling import SMOTE\n",
        "# oversample = SMOTE()\n",
        "# X, y = oversample.fit_resample(X, y)\n",
        "# y.value_counts()"
      ],
      "metadata": {
        "id": "753Lv2XVvXQc"
      },
      "execution_count": null,
      "outputs": []
    },
    {
      "cell_type": "code",
      "source": [
        "# Scale and centre data before PCA\n",
        "from sklearn.preprocessing import StandardScaler\n",
        "scaler = StandardScaler()\n",
        "X_standardised = scaler.fit_transform(X.values)"
      ],
      "metadata": {
        "id": "iFZHWxKGp0MJ"
      },
      "execution_count": null,
      "outputs": []
    },
    {
      "cell_type": "code",
      "source": [
        "# fit pca model with 99% variance coverage\n",
        "pca = PCA(.99)\n",
        "pca.fit(X_standardised)"
      ],
      "metadata": {
        "colab": {
          "base_uri": "https://localhost:8080/"
        },
        "id": "ZCgY00Pt5sCe",
        "outputId": "91208f68-ad7c-4294-a834-7f53f00a7f5f"
      },
      "execution_count": null,
      "outputs": [
        {
          "output_type": "stream",
          "name": "stdout",
          "text": [
            "0.9901307873897868\n"
          ]
        }
      ]
    },
    {
      "cell_type": "code",
      "source": [
        "# PCA transform the data for\n",
        "X_reduced = pca.transform(X_standardised)"
      ],
      "metadata": {
        "id": "83SjYK2DCh1z"
      },
      "execution_count": null,
      "outputs": []
    },
    {
      "cell_type": "code",
      "source": [
        "from sklearn.model_selection import train_test_split\n",
        "# split the data to train and test sets, stratify is important for unbalanced classes\n",
        "X_train, X_test, y_train, y_test = train_test_split(X_reduced, y, test_size=0.20, random_state = 21, stratify=y)\n",
        "print(X_train.shape, y_train.shape)\n",
        "print(X_test.shape, y_test.shape)"
      ],
      "metadata": {
        "id": "nyKPBZI_DOwh",
        "colab": {
          "base_uri": "https://localhost:8080/"
        },
        "outputId": "cec39977-8646-497c-a62c-7438a7ff38b9"
      },
      "execution_count": null,
      "outputs": [
        {
          "output_type": "stream",
          "name": "stdout",
          "text": [
            "(10443, 126) (10443,)\n",
            "(2611, 126) (2611,)\n"
          ]
        }
      ]
    },
    {
      "cell_type": "code",
      "source": [
        "# STANDARDISED, PCA DATA FED TO MODEL\n",
        "# search space\n",
        "parameters = {\n",
        "    'n_estimators': sp_randInt(20,500),\n",
        "    'criterion': ['gini', 'entropy'],\n",
        "    'max_depth': sp_randInt(5,100),\n",
        "    'max_features' : ['auto', 'sqrt'],\n",
        "    'bootstrap' : [True, False]\n",
        "}\n",
        "#initiate classifier with random state for reproducability\n",
        "rf_clf = RandomForestClassifier(random_state=2022)\n",
        "\n",
        "# perform parameter tuning with f1_weighted scoring for multiclass averaging.\n",
        "grid = RandomizedSearchCV(rf_clf, param_distributions=parameters, scoring='f1_weighted', cv=3, n_iter = 25, n_jobs=-1, verbose=4)\n",
        "grid.fit(X_train, y_train)\n",
        "\n",
        "print(\"The best Random Forest parameters are %s with a score of %0.2f\"\n",
        "      % (grid.best_params_, grid.best_score_))"
      ],
      "metadata": {
        "id": "5hMru7vj14da",
        "colab": {
          "base_uri": "https://localhost:8080/"
        },
        "outputId": "06cd9c38-47d7-48fa-9fef-1716dc4b4f92"
      },
      "execution_count": null,
      "outputs": [
        {
          "output_type": "stream",
          "name": "stdout",
          "text": [
            "Fitting 2 folds for each of 25 candidates, totalling 50 fits\n",
            "The best Random Forest parameters are {'bootstrap': False, 'criterion': 'gini', 'max_depth': 71, 'max_features': 'auto', 'n_estimators': 445} with a score of 0.89\n"
          ]
        }
      ]
    },
    {
      "cell_type": "code",
      "source": [
        "# make RF classifier with ideal parameters\n",
        "rf_model = RandomForestClassifier(bootstrap=False, criterion='gini', max_depth=71, max_features='sqrt', n_estimators=445, random_state=21)\n",
        "rf_model.fit(X_train, y_train)\n",
        "\n",
        "y_test_pred = rf_model.predict(X_test)\n",
        "\n",
        "# Check the confusion matrix\n",
        "disp = plot_confusion_matrix(rf_model, X_test, y_test,\n",
        "                                 display_labels=None,\n",
        "                                 cmap=plt.cm.Blues)\n",
        "\n",
        "# Just get a classification report.\n",
        "print(classification_report(y_test, y_test_pred))"
      ],
      "metadata": {
        "id": "lVf8-7sWd3z3",
        "colab": {
          "base_uri": "https://localhost:8080/",
          "height": 525
        },
        "outputId": "278e79ae-86a4-468a-cb1b-98a10a4e4d92"
      },
      "execution_count": null,
      "outputs": [
        {
          "output_type": "stream",
          "name": "stderr",
          "text": [
            "/usr/local/lib/python3.7/dist-packages/sklearn/utils/deprecation.py:87: FutureWarning: Function plot_confusion_matrix is deprecated; Function `plot_confusion_matrix` is deprecated in 1.0 and will be removed in 1.2. Use one of the class methods: ConfusionMatrixDisplay.from_predictions or ConfusionMatrixDisplay.from_estimator.\n",
            "  warnings.warn(msg, category=FutureWarning)\n"
          ]
        },
        {
          "output_type": "stream",
          "name": "stdout",
          "text": [
            "              precision    recall  f1-score   support\n",
            "\n",
            "           0       0.72      0.65      0.68       771\n",
            "           1       0.83      0.94      0.88      1544\n",
            "           2       0.88      0.66      0.75       232\n",
            "           3       0.91      0.16      0.27        64\n",
            "\n",
            "    accuracy                           0.81      2611\n",
            "   macro avg       0.84      0.60      0.65      2611\n",
            "weighted avg       0.81      0.81      0.80      2611\n",
            "\n"
          ]
        },
        {
          "output_type": "display_data",
          "data": {
            "text/plain": [
              "<Figure size 432x288 with 2 Axes>"
            ],
            "image/png": "[encoded data removed]"
          },
          "metadata": {
            "needs_background": "light"
          }
        }
      ]
    },
    {
      "cell_type": "code",
      "source": [
        "#adaboost\n",
        "from sklearn.ensemble import AdaBoostClassifier\n",
        "\n",
        "ada_clf = AdaBoostClassifier(random_state=2022)\n",
        "parameters = {\n",
        "    'n_estimators': sp_randInt(20,500),\n",
        "    'learning_rate': sp_randFloat(0.1,2),\n",
        "    'base_estimator': rf_model\n",
        "}\n",
        "ada_grid = RandomizedSearchCV(ada_clf, param_distributions=parameters, scoring='f1_weighted', cv=2, n_iter = 5, n_jobs=-1, verbose=4)\n",
        "ada_grid.fit(X_train, y_train)\n",
        "\n",
        "print(\"The best adaBoost parameters are %s with a score of %0.2f\"\n",
        "      % (ada_grid.best_params_, ada_grid.best_score_))"
      ],
      "metadata": {
        "id": "5zARQCH-1zrd",
        "colab": {
          "base_uri": "https://localhost:8080/"
        },
        "outputId": "553a36fc-2946-4fa2-af04-6851ee18dfd0"
      },
      "execution_count": null,
      "outputs": [
        {
          "output_type": "stream",
          "name": "stdout",
          "text": [
            "Fitting 2 folds for each of 5 candidates, totalling 10 fits\n",
            "The best adaBoost parameters are {'base_estimator': DecisionTreeClassifier(max_depth=93, max_features='auto',\n",
            "                       random_state=978338550), 'learning_rate': 2.0746774442304896, 'n_estimators': 177} with a score of 0.69\n"
          ]
        }
      ]
    },
    {
      "cell_type": "code",
      "source": [
        "from sklearn.ensemble import AdaBoostClassifier\n",
        "\n",
        "ada_model3 = AdaBoostClassifier(base_estimator=rf_model, learning_rate=1.06, n_estimators=344, random_state=2022)\n",
        "ada_model3.fit(X_train, y_train)\n",
        "\n",
        "y_test_pred = ada_model3.predict(X_test)\n",
        "\n",
        "# Check the confusion matrix\n",
        "disp = plot_confusion_matrix(ada_model3, X_test, y_test,\n",
        "                                 display_labels=None,\n",
        "                                 cmap=plt.cm.Blues)\n",
        "\n",
        "# Just get a classification report.\n",
        "print(classification_report(y_test, y_test_pred))"
      ],
      "metadata": {
        "colab": {
          "base_uri": "https://localhost:8080/",
          "height": 525
        },
        "id": "K66UGrHLebSG",
        "outputId": "98f82401-86ff-4c77-cd2a-c6c01ec18927"
      },
      "execution_count": null,
      "outputs": [
        {
          "output_type": "stream",
          "name": "stderr",
          "text": [
            "/usr/local/lib/python3.7/dist-packages/sklearn/utils/deprecation.py:87: FutureWarning: Function plot_confusion_matrix is deprecated; Function `plot_confusion_matrix` is deprecated in 1.0 and will be removed in 1.2. Use one of the class methods: ConfusionMatrixDisplay.from_predictions or ConfusionMatrixDisplay.from_estimator.\n",
            "  warnings.warn(msg, category=FutureWarning)\n"
          ]
        },
        {
          "output_type": "stream",
          "name": "stdout",
          "text": [
            "              precision    recall  f1-score   support\n",
            "\n",
            "           0       0.73      0.65      0.69       771\n",
            "           1       0.84      0.94      0.89      1544\n",
            "           2       0.87      0.66      0.75       232\n",
            "           3       0.85      0.17      0.29        64\n",
            "\n",
            "    accuracy                           0.81      2611\n",
            "   macro avg       0.82      0.60      0.65      2611\n",
            "weighted avg       0.81      0.81      0.80      2611\n",
            "\n"
          ]
        },
        {
          "output_type": "display_data",
          "data": {
            "text/plain": [
              "<Figure size 432x288 with 2 Axes>"
            ],
            "image/png": "[encoded data removed]"
          },
          "metadata": {
            "needs_background": "light"
          }
        }
      ]
    },
    {
      "cell_type": "code",
      "source": [
        "test_set = pd.read_csv('test_feat.csv')\n",
        "test_feat = test_set.iloc[:,1:]\n",
        "# have to fill not remove otherwise misses out last prediction\n",
        "test_feat.fillna(0, inplace=True)\n",
        "test_feat"
      ],
      "metadata": {
        "id": "azkyYNiQ0ydu",
        "colab": {
          "base_uri": "https://localhost:8080/",
          "height": 424
        },
        "outputId": "e646efda-fdd7-4f17-88b7-fd56cf45f5e3"
      },
      "execution_count": null,
      "outputs": [
        {
          "output_type": "execute_result",
          "data": {
            "text/plain": [
              "      F0  F1  F2  F3  F4  F5        F6        F7        F8        F9  ...  \\\n",
              "0    -10  10   0   0   0   0  0.035030  0.025541  0.026757  0.014211  ...   \n",
              "1     -1   1   0   0   0   0  0.065561  0.052112  0.070092  0.020467  ...   \n",
              "2    -25  25   0   0   0   0  0.004268  0.007249  0.008490  0.003402  ...   \n",
              "3     16   0  16   0   1  10  0.091563  0.152688  0.194351  0.054590  ...   \n",
              "4    -34  34   0   0   0   0  0.032833  0.007840  0.009507  0.004046  ...   \n",
              "...   ..  ..  ..  ..  ..  ..       ...       ...       ...       ...  ...   \n",
              "3995  34   0  34   0   1  12  0.257070  0.382671  0.401493  0.205716  ...   \n",
              "3996  -4   8   4   0   0   3  0.130805  0.205248  0.163456  0.130662  ...   \n",
              "3997  27   0  27   0   3  13  0.502131  0.786888  0.884271  0.382576  ...   \n",
              "3998  -1   2   1   0   0   1  0.033182  0.035032  0.044967  0.013029  ...   \n",
              "3999  -5   5   0   0   0   0  0.054079  0.030239  0.038992  0.012129  ...   \n",
              "\n",
              "          F178       F179      F180  F181  F182        F183  F184        F185  \\\n",
              "0     0.260381   5.692895  0.780536     0     0   52.173913     0   53.428317   \n",
              "1     0.153337  22.404452  3.854612     0     0   48.154093     0    0.000000   \n",
              "2     0.003731  11.355926  2.649366     7     0   83.333333     0   84.447572   \n",
              "3     0.026470  22.279271 -4.135135     3     0   66.371681     0   71.471114   \n",
              "4     0.268580   6.582272  0.501846     0     0  106.761566     0  115.273775   \n",
              "...        ...        ...       ...   ...   ...         ...   ...         ...   \n",
              "3995  0.014037  13.499831  3.057967     5     0  103.448276     8  133.928571   \n",
              "3996  0.146989  18.188955 -2.744242     0     0   55.970149     0   59.347181   \n",
              "3997  0.056684   3.645347  0.011702    28     0   90.090090    20  146.699266   \n",
              "3998  0.159070   9.421713 -0.581112     0     0   69.124424     0   71.985603   \n",
              "3999  0.360783   9.206840  1.338350     3     0   68.965517     0   75.329567   \n",
              "\n",
              "            F186   F187  \n",
              "0      59.055118  1.168  \n",
              "1      56.818182  1.304  \n",
              "2      87.209302  0.744  \n",
              "3      89.285714  0.944  \n",
              "4     120.967742  0.576  \n",
              "...          ...    ...  \n",
              "3995  178.571429  0.704  \n",
              "3996  125.000000  1.184  \n",
              "3997  202.702703  0.944  \n",
              "3998   76.530612  0.888  \n",
              "3999   81.521739  0.880  \n",
              "\n",
              "[4000 rows x 188 columns]"
            ],
            "text/html": [
              "\n",
              "  <div id=\"df-d51dc4e8-a269-4405-81a3-5985d1d4de92\">\n",
              "    <div class=\"colab-df-container\">\n",
              "      <div>\n",
              "<style scoped>\n",
              "    .dataframe tbody tr th:only-of-type {\n",
              "        vertical-align: middle;\n",
              "    }\n",
              "\n",
              "    .dataframe tbody tr th {\n",
              "        vertical-align: top;\n",
              "    }\n",
              "\n",
              "    .dataframe thead th {\n",
              "        text-align: right;\n",
              "    }\n",
              "</style>\n",
              "<table border=\"1\" class=\"dataframe\">\n",
              "  <thead>\n",
              "    <tr style=\"text-align: right;\">\n",
              "      <th></th>\n",
              "      <th>F0</th>\n",
              "      <th>F1</th>\n",
              "      <th>F2</th>\n",
              "      <th>F3</th>\n",
              "      <th>F4</th>\n",
              "      <th>F5</th>\n",
              "      <th>F6</th>\n",
              "      <th>F7</th>\n",
              "      <th>F8</th>\n",
              "      <th>F9</th>\n",
              "      <th>...</th>\n",
              "      <th>F178</th>\n",
              "      <th>F179</th>\n",
              "      <th>F180</th>\n",
              "      <th>F181</th>\n",
              "      <th>F182</th>\n",
              "      <th>F183</th>\n",
              "      <th>F184</th>\n",
              "      <th>F185</th>\n",
              "      <th>F186</th>\n",
              "      <th>F187</th>\n",
              "    </tr>\n",
              "  </thead>\n",
              "  <tbody>\n",
              "    <tr>\n",
              "      <th>0</th>\n",
              "      <td>-10</td>\n",
              "      <td>10</td>\n",
              "      <td>0</td>\n",
              "      <td>0</td>\n",
              "      <td>0</td>\n",
              "      <td>0</td>\n",
              "      <td>0.035030</td>\n",
              "      <td>0.025541</td>\n",
              "      <td>0.026757</td>\n",
              "      <td>0.014211</td>\n",
              "      <td>...</td>\n",
              "      <td>0.260381</td>\n",
              "      <td>5.692895</td>\n",
              "      <td>0.780536</td>\n",
              "      <td>0</td>\n",
              "      <td>0</td>\n",
              "      <td>52.173913</td>\n",
              "      <td>0</td>\n",
              "      <td>53.428317</td>\n",
              "      <td>59.055118</td>\n",
              "      <td>1.168</td>\n",
              "    </tr>\n",
              "    <tr>\n",
              "      <th>1</th>\n",
              "      <td>-1</td>\n",
              "      <td>1</td>\n",
              "      <td>0</td>\n",
              "      <td>0</td>\n",
              "      <td>0</td>\n",
              "      <td>0</td>\n",
              "      <td>0.065561</td>\n",
              "      <td>0.052112</td>\n",
              "      <td>0.070092</td>\n",
              "      <td>0.020467</td>\n",
              "      <td>...</td>\n",
              "      <td>0.153337</td>\n",
              "      <td>22.404452</td>\n",
              "      <td>3.854612</td>\n",
              "      <td>0</td>\n",
              "      <td>0</td>\n",
              "      <td>48.154093</td>\n",
              "      <td>0</td>\n",
              "      <td>0.000000</td>\n",
              "      <td>56.818182</td>\n",
              "      <td>1.304</td>\n",
              "    </tr>\n",
              "    <tr>\n",
              "      <th>2</th>\n",
              "      <td>-25</td>\n",
              "      <td>25</td>\n",
              "      <td>0</td>\n",
              "      <td>0</td>\n",
              "      <td>0</td>\n",
              "      <td>0</td>\n",
              "      <td>0.004268</td>\n",
              "      <td>0.007249</td>\n",
              "      <td>0.008490</td>\n",
              "      <td>0.003402</td>\n",
              "      <td>...</td>\n",
              "      <td>0.003731</td>\n",
              "      <td>11.355926</td>\n",
              "      <td>2.649366</td>\n",
              "      <td>7</td>\n",
              "      <td>0</td>\n",
              "      <td>83.333333</td>\n",
              "      <td>0</td>\n",
              "      <td>84.447572</td>\n",
              "      <td>87.209302</td>\n",
              "      <td>0.744</td>\n",
              "    </tr>\n",
              "    <tr>\n",
              "      <th>3</th>\n",
              "      <td>16</td>\n",
              "      <td>0</td>\n",
              "      <td>16</td>\n",
              "      <td>0</td>\n",
              "      <td>1</td>\n",
              "      <td>10</td>\n",
              "      <td>0.091563</td>\n",
              "      <td>0.152688</td>\n",
              "      <td>0.194351</td>\n",
              "      <td>0.054590</td>\n",
              "      <td>...</td>\n",
              "      <td>0.026470</td>\n",
              "      <td>22.279271</td>\n",
              "      <td>-4.135135</td>\n",
              "      <td>3</td>\n",
              "      <td>0</td>\n",
              "      <td>66.371681</td>\n",
              "      <td>0</td>\n",
              "      <td>71.471114</td>\n",
              "      <td>89.285714</td>\n",
              "      <td>0.944</td>\n",
              "    </tr>\n",
              "    <tr>\n",
              "      <th>4</th>\n",
              "      <td>-34</td>\n",
              "      <td>34</td>\n",
              "      <td>0</td>\n",
              "      <td>0</td>\n",
              "      <td>0</td>\n",
              "      <td>0</td>\n",
              "      <td>0.032833</td>\n",
              "      <td>0.007840</td>\n",
              "      <td>0.009507</td>\n",
              "      <td>0.004046</td>\n",
              "      <td>...</td>\n",
              "      <td>0.268580</td>\n",
              "      <td>6.582272</td>\n",
              "      <td>0.501846</td>\n",
              "      <td>0</td>\n",
              "      <td>0</td>\n",
              "      <td>106.761566</td>\n",
              "      <td>0</td>\n",
              "      <td>115.273775</td>\n",
              "      <td>120.967742</td>\n",
              "      <td>0.576</td>\n",
              "    </tr>\n",
              "    <tr>\n",
              "      <th>...</th>\n",
              "      <td>...</td>\n",
              "      <td>...</td>\n",
              "      <td>...</td>\n",
              "      <td>...</td>\n",
              "      <td>...</td>\n",
              "      <td>...</td>\n",
              "      <td>...</td>\n",
              "      <td>...</td>\n",
              "      <td>...</td>\n",
              "      <td>...</td>\n",
              "      <td>...</td>\n",
              "      <td>...</td>\n",
              "      <td>...</td>\n",
              "      <td>...</td>\n",
              "      <td>...</td>\n",
              "      <td>...</td>\n",
              "      <td>...</td>\n",
              "      <td>...</td>\n",
              "      <td>...</td>\n",
              "      <td>...</td>\n",
              "      <td>...</td>\n",
              "    </tr>\n",
              "    <tr>\n",
              "      <th>3995</th>\n",
              "      <td>34</td>\n",
              "      <td>0</td>\n",
              "      <td>34</td>\n",
              "      <td>0</td>\n",
              "      <td>1</td>\n",
              "      <td>12</td>\n",
              "      <td>0.257070</td>\n",
              "      <td>0.382671</td>\n",
              "      <td>0.401493</td>\n",
              "      <td>0.205716</td>\n",
              "      <td>...</td>\n",
              "      <td>0.014037</td>\n",
              "      <td>13.499831</td>\n",
              "      <td>3.057967</td>\n",
              "      <td>5</td>\n",
              "      <td>0</td>\n",
              "      <td>103.448276</td>\n",
              "      <td>8</td>\n",
              "      <td>133.928571</td>\n",
              "      <td>178.571429</td>\n",
              "      <td>0.704</td>\n",
              "    </tr>\n",
              "    <tr>\n",
              "      <th>3996</th>\n",
              "      <td>-4</td>\n",
              "      <td>8</td>\n",
              "      <td>4</td>\n",
              "      <td>0</td>\n",
              "      <td>0</td>\n",
              "      <td>3</td>\n",
              "      <td>0.130805</td>\n",
              "      <td>0.205248</td>\n",
              "      <td>0.163456</td>\n",
              "      <td>0.130662</td>\n",
              "      <td>...</td>\n",
              "      <td>0.146989</td>\n",
              "      <td>18.188955</td>\n",
              "      <td>-2.744242</td>\n",
              "      <td>0</td>\n",
              "      <td>0</td>\n",
              "      <td>55.970149</td>\n",
              "      <td>0</td>\n",
              "      <td>59.347181</td>\n",
              "      <td>125.000000</td>\n",
              "      <td>1.184</td>\n",
              "    </tr>\n",
              "    <tr>\n",
              "      <th>3997</th>\n",
              "      <td>27</td>\n",
              "      <td>0</td>\n",
              "      <td>27</td>\n",
              "      <td>0</td>\n",
              "      <td>3</td>\n",
              "      <td>13</td>\n",
              "      <td>0.502131</td>\n",
              "      <td>0.786888</td>\n",
              "      <td>0.884271</td>\n",
              "      <td>0.382576</td>\n",
              "      <td>...</td>\n",
              "      <td>0.056684</td>\n",
              "      <td>3.645347</td>\n",
              "      <td>0.011702</td>\n",
              "      <td>28</td>\n",
              "      <td>0</td>\n",
              "      <td>90.090090</td>\n",
              "      <td>20</td>\n",
              "      <td>146.699266</td>\n",
              "      <td>202.702703</td>\n",
              "      <td>0.944</td>\n",
              "    </tr>\n",
              "    <tr>\n",
              "      <th>3998</th>\n",
              "      <td>-1</td>\n",
              "      <td>2</td>\n",
              "      <td>1</td>\n",
              "      <td>0</td>\n",
              "      <td>0</td>\n",
              "      <td>1</td>\n",
              "      <td>0.033182</td>\n",
              "      <td>0.035032</td>\n",
              "      <td>0.044967</td>\n",
              "      <td>0.013029</td>\n",
              "      <td>...</td>\n",
              "      <td>0.159070</td>\n",
              "      <td>9.421713</td>\n",
              "      <td>-0.581112</td>\n",
              "      <td>0</td>\n",
              "      <td>0</td>\n",
              "      <td>69.124424</td>\n",
              "      <td>0</td>\n",
              "      <td>71.985603</td>\n",
              "      <td>76.530612</td>\n",
              "      <td>0.888</td>\n",
              "    </tr>\n",
              "    <tr>\n",
              "      <th>3999</th>\n",
              "      <td>-5</td>\n",
              "      <td>5</td>\n",
              "      <td>0</td>\n",
              "      <td>0</td>\n",
              "      <td>0</td>\n",
              "      <td>0</td>\n",
              "      <td>0.054079</td>\n",
              "      <td>0.030239</td>\n",
              "      <td>0.038992</td>\n",
              "      <td>0.012129</td>\n",
              "      <td>...</td>\n",
              "      <td>0.360783</td>\n",
              "      <td>9.206840</td>\n",
              "      <td>1.338350</td>\n",
              "      <td>3</td>\n",
              "      <td>0</td>\n",
              "      <td>68.965517</td>\n",
              "      <td>0</td>\n",
              "      <td>75.329567</td>\n",
              "      <td>81.521739</td>\n",
              "      <td>0.880</td>\n",
              "    </tr>\n",
              "  </tbody>\n",
              "</table>\n",
              "<p>4000 rows × 188 columns</p>\n",
              "</div>\n",
              "      <button class=\"colab-df-convert\" onclick=\"convertToInteractive('df-d51dc4e8-a269-4405-81a3-5985d1d4de92')\"\n",
              "              title=\"Convert this dataframe to an interactive table.\"\n",
              "              style=\"display:none;\">\n",
              "        \n",
              "  <svg xmlns=\"http://www.w3.org/2000/svg\" height=\"24px\"viewBox=\"0 0 24 24\"\n",
              "       width=\"24px\">\n",
              "    <path d=\"M0 0h24v24H0V0z\" fill=\"none\"/>\n",
              "    <path d=\"M18.56 5.44l.94 2.06.94-2.06 2.06-.94-2.06-.94-.94-2.06-.94 2.06-2.06.94zm-11 1L8.5 8.5l.94-2.06 2.06-.94-2.06-.94L8.5 2.5l-.94 2.06-2.06.94zm10 10l.94 2.06.94-2.06 2.06-.94-2.06-.94-.94-2.06-.94 2.06-2.06.94z\"/><path d=\"M17.41 7.96l-1.37-1.37c-.4-.4-.92-.59-1.43-.59-.52 0-1.04.2-1.43.59L10.3 9.45l-7.72 7.72c-.78.78-.78 2.05 0 2.83L4 21.41c.39.39.9.59 1.41.59.51 0 1.02-.2 1.41-.59l7.78-7.78 2.81-2.81c.8-.78.8-2.07 0-2.86zM5.41 20L4 18.59l7.72-7.72 1.47 1.35L5.41 20z\"/>\n",
              "  </svg>\n",
              "      </button>\n",
              "      \n",
              "  <style>\n",
              "    .colab-df-container {\n",
              "      display:flex;\n",
              "      flex-wrap:wrap;\n",
              "      gap: 12px;\n",
              "    }\n",
              "\n",
              "    .colab-df-convert {\n",
              "      background-color: #E8F0FE;\n",
              "      border: none;\n",
              "      border-radius: 50%;\n",
              "      cursor: pointer;\n",
              "      display: none;\n",
              "      fill: #1967D2;\n",
              "      height: 32px;\n",
              "      padding: 0 0 0 0;\n",
              "      width: 32px;\n",
              "    }\n",
              "\n",
              "    .colab-df-convert:hover {\n",
              "      background-color: #E2EBFA;\n",
              "      box-shadow: 0px 1px 2px rgba(60, 64, 67, 0.3), 0px 1px 3px 1px rgba(60, 64, 67, 0.15);\n",
              "      fill: #174EA6;\n",
              "    }\n",
              "\n",
              "    [theme=dark] .colab-df-convert {\n",
              "      background-color: #3B4455;\n",
              "      fill: #D2E3FC;\n",
              "    }\n",
              "\n",
              "    [theme=dark] .colab-df-convert:hover {\n",
              "      background-color: #434B5C;\n",
              "      box-shadow: 0px 1px 3px 1px rgba(0, 0, 0, 0.15);\n",
              "      filter: drop-shadow(0px 1px 2px rgba(0, 0, 0, 0.3));\n",
              "      fill: #FFFFFF;\n",
              "    }\n",
              "  </style>\n",
              "\n",
              "      <script>\n",
              "        const buttonEl =\n",
              "          document.querySelector('#df-d51dc4e8-a269-4405-81a3-5985d1d4de92 button.colab-df-convert');\n",
              "        buttonEl.style.display =\n",
              "          google.colab.kernel.accessAllowed ? 'block' : 'none';\n",
              "\n",
              "        async function convertToInteractive(key) {\n",
              "          const element = document.querySelector('#df-d51dc4e8-a269-4405-81a3-5985d1d4de92');\n",
              "          const dataTable =\n",
              "            await google.colab.kernel.invokeFunction('convertToInteractive',\n",
              "                                                     [key], {});\n",
              "          if (!dataTable) return;\n",
              "\n",
              "          const docLinkHtml = 'Like what you see? Visit the ' +\n",
              "            '<a target=\"_blank\" href=https://colab.research.google.com/notebooks/data_table.ipynb>data table notebook</a>'\n",
              "            + ' to learn more about interactive tables.';\n",
              "          element.innerHTML = '';\n",
              "          dataTable['output_type'] = 'display_data';\n",
              "          await google.colab.output.renderOutput(dataTable, element);\n",
              "          const docLink = document.createElement('div');\n",
              "          docLink.innerHTML = docLinkHtml;\n",
              "          element.appendChild(docLink);\n",
              "        }\n",
              "      </script>\n",
              "    </div>\n",
              "  </div>\n",
              "  "
            ]
          },
          "metadata": {},
          "execution_count": 12
        }
      ]
    },
    {
      "cell_type": "code",
      "source": [
        "test_standardised = scaler.fit_transform(test_feat.values)\n",
        "test_feat_reduced = pca.transform(test_standardised)"
      ],
      "metadata": {
        "id": "rak-UpcO1U3-"
      },
      "execution_count": null,
      "outputs": []
    },
    {
      "cell_type": "code",
      "source": [
        "test_pred = rf_model.predict(test_feat_reduced)\n",
        "test_pred_classes = pd.DataFrame(test_pred)\n",
        "print(test_pred_classes)"
      ],
      "metadata": {
        "colab": {
          "base_uri": "https://localhost:8080/"
        },
        "id": "EXQH8v1C1gPZ",
        "outputId": "8b4d22e7-9768-4be1-bd1c-6352b5cea479"
      },
      "execution_count": null,
      "outputs": [
        {
          "output_type": "stream",
          "name": "stdout",
          "text": [
            "      0\n",
            "0     1\n",
            "1     1\n",
            "2     0\n",
            "3     1\n",
            "4     0\n",
            "...  ..\n",
            "3995  2\n",
            "3996  0\n",
            "3997  3\n",
            "3998  1\n",
            "3999  1\n",
            "\n",
            "[4000 rows x 1 columns]\n"
          ]
        }
      ]
    },
    {
      "cell_type": "code",
      "source": [
        "# GET PREDICTIONS AND IDS IN ONE DATAFRAME\n",
        "test_pred_classes = test_pred_classes[0].map({0: 'O', 1: 'N', 2: 'A', 3: '~'}).astype(str)\n",
        "test_pred_classes\n",
        "test_id = test_set.iloc[:,0]\n",
        "test_id"
      ],
      "metadata": {
        "colab": {
          "base_uri": "https://localhost:8080/"
        },
        "id": "HL8hmvL51y4K",
        "outputId": "f8f90927-ec3d-4fe4-921f-be5d22e617f5"
      },
      "execution_count": null,
      "outputs": [
        {
          "output_type": "execute_result",
          "data": {
            "text/plain": [
              "0       C00000\n",
              "1       C00001\n",
              "2       C00002\n",
              "3       C00003\n",
              "4       C00004\n",
              "         ...  \n",
              "3995    C03995\n",
              "3996    C03996\n",
              "3997    C03997\n",
              "3998    C03998\n",
              "3999    C03999\n",
              "Name: ID, Length: 4000, dtype: object"
            ]
          },
          "metadata": {},
          "execution_count": 15
        }
      ]
    },
    {
      "cell_type": "code",
      "source": [
        "predictions = pd.concat([test_id, test_pred_classes], axis=1)\n",
        "predictions"
      ],
      "metadata": {
        "colab": {
          "base_uri": "https://localhost:8080/",
          "height": 424
        },
        "id": "oXDLEIfsAMnn",
        "outputId": "51694451-d233-47ed-b646-15ce9f98bd42"
      },
      "execution_count": null,
      "outputs": [
        {
          "output_type": "execute_result",
          "data": {
            "text/plain": [
              "          ID  0\n",
              "0     C00000  N\n",
              "1     C00001  N\n",
              "2     C00002  O\n",
              "3     C00003  N\n",
              "4     C00004  O\n",
              "...      ... ..\n",
              "3995  C03995  A\n",
              "3996  C03996  O\n",
              "3997  C03997  ~\n",
              "3998  C03998  N\n",
              "3999  C03999  N\n",
              "\n",
              "[4000 rows x 2 columns]"
            ],
            "text/html": [
              "\n",
              "  <div id=\"df-5f361a49-10bf-48da-ac96-2982984e85ad\">\n",
              "    <div class=\"colab-df-container\">\n",
              "      <div>\n",
              "<style scoped>\n",
              "    .dataframe tbody tr th:only-of-type {\n",
              "        vertical-align: middle;\n",
              "    }\n",
              "\n",
              "    .dataframe tbody tr th {\n",
              "        vertical-align: top;\n",
              "    }\n",
              "\n",
              "    .dataframe thead th {\n",
              "        text-align: right;\n",
              "    }\n",
              "</style>\n",
              "<table border=\"1\" class=\"dataframe\">\n",
              "  <thead>\n",
              "    <tr style=\"text-align: right;\">\n",
              "      <th></th>\n",
              "      <th>ID</th>\n",
              "      <th>0</th>\n",
              "    </tr>\n",
              "  </thead>\n",
              "  <tbody>\n",
              "    <tr>\n",
              "      <th>0</th>\n",
              "      <td>C00000</td>\n",
              "      <td>N</td>\n",
              "    </tr>\n",
              "    <tr>\n",
              "      <th>1</th>\n",
              "      <td>C00001</td>\n",
              "      <td>N</td>\n",
              "    </tr>\n",
              "    <tr>\n",
              "      <th>2</th>\n",
              "      <td>C00002</td>\n",
              "      <td>O</td>\n",
              "    </tr>\n",
              "    <tr>\n",
              "      <th>3</th>\n",
              "      <td>C00003</td>\n",
              "      <td>N</td>\n",
              "    </tr>\n",
              "    <tr>\n",
              "      <th>4</th>\n",
              "      <td>C00004</td>\n",
              "      <td>O</td>\n",
              "    </tr>\n",
              "    <tr>\n",
              "      <th>...</th>\n",
              "      <td>...</td>\n",
              "      <td>...</td>\n",
              "    </tr>\n",
              "    <tr>\n",
              "      <th>3995</th>\n",
              "      <td>C03995</td>\n",
              "      <td>A</td>\n",
              "    </tr>\n",
              "    <tr>\n",
              "      <th>3996</th>\n",
              "      <td>C03996</td>\n",
              "      <td>O</td>\n",
              "    </tr>\n",
              "    <tr>\n",
              "      <th>3997</th>\n",
              "      <td>C03997</td>\n",
              "      <td>~</td>\n",
              "    </tr>\n",
              "    <tr>\n",
              "      <th>3998</th>\n",
              "      <td>C03998</td>\n",
              "      <td>N</td>\n",
              "    </tr>\n",
              "    <tr>\n",
              "      <th>3999</th>\n",
              "      <td>C03999</td>\n",
              "      <td>N</td>\n",
              "    </tr>\n",
              "  </tbody>\n",
              "</table>\n",
              "<p>4000 rows × 2 columns</p>\n",
              "</div>\n",
              "      <button class=\"colab-df-convert\" onclick=\"convertToInteractive('df-5f361a49-10bf-48da-ac96-2982984e85ad')\"\n",
              "              title=\"Convert this dataframe to an interactive table.\"\n",
              "              style=\"display:none;\">\n",
              "        \n",
              "  <svg xmlns=\"http://www.w3.org/2000/svg\" height=\"24px\"viewBox=\"0 0 24 24\"\n",
              "       width=\"24px\">\n",
              "    <path d=\"M0 0h24v24H0V0z\" fill=\"none\"/>\n",
              "    <path d=\"M18.56 5.44l.94 2.06.94-2.06 2.06-.94-2.06-.94-.94-2.06-.94 2.06-2.06.94zm-11 1L8.5 8.5l.94-2.06 2.06-.94-2.06-.94L8.5 2.5l-.94 2.06-2.06.94zm10 10l.94 2.06.94-2.06 2.06-.94-2.06-.94-.94-2.06-.94 2.06-2.06.94z\"/><path d=\"M17.41 7.96l-1.37-1.37c-.4-.4-.92-.59-1.43-.59-.52 0-1.04.2-1.43.59L10.3 9.45l-7.72 7.72c-.78.78-.78 2.05 0 2.83L4 21.41c.39.39.9.59 1.41.59.51 0 1.02-.2 1.41-.59l7.78-7.78 2.81-2.81c.8-.78.8-2.07 0-2.86zM5.41 20L4 18.59l7.72-7.72 1.47 1.35L5.41 20z\"/>\n",
              "  </svg>\n",
              "      </button>\n",
              "      \n",
              "  <style>\n",
              "    .colab-df-container {\n",
              "      display:flex;\n",
              "      flex-wrap:wrap;\n",
              "      gap: 12px;\n",
              "    }\n",
              "\n",
              "    .colab-df-convert {\n",
              "      background-color: #E8F0FE;\n",
              "      border: none;\n",
              "      border-radius: 50%;\n",
              "      cursor: pointer;\n",
              "      display: none;\n",
              "      fill: #1967D2;\n",
              "      height: 32px;\n",
              "      padding: 0 0 0 0;\n",
              "      width: 32px;\n",
              "    }\n",
              "\n",
              "    .colab-df-convert:hover {\n",
              "      background-color: #E2EBFA;\n",
              "      box-shadow: 0px 1px 2px rgba(60, 64, 67, 0.3), 0px 1px 3px 1px rgba(60, 64, 67, 0.15);\n",
              "      fill: #174EA6;\n",
              "    }\n",
              "\n",
              "    [theme=dark] .colab-df-convert {\n",
              "      background-color: #3B4455;\n",
              "      fill: #D2E3FC;\n",
              "    }\n",
              "\n",
              "    [theme=dark] .colab-df-convert:hover {\n",
              "      background-color: #434B5C;\n",
              "      box-shadow: 0px 1px 3px 1px rgba(0, 0, 0, 0.15);\n",
              "      filter: drop-shadow(0px 1px 2px rgba(0, 0, 0, 0.3));\n",
              "      fill: #FFFFFF;\n",
              "    }\n",
              "  </style>\n",
              "\n",
              "      <script>\n",
              "        const buttonEl =\n",
              "          document.querySelector('#df-5f361a49-10bf-48da-ac96-2982984e85ad button.colab-df-convert');\n",
              "        buttonEl.style.display =\n",
              "          google.colab.kernel.accessAllowed ? 'block' : 'none';\n",
              "\n",
              "        async function convertToInteractive(key) {\n",
              "          const element = document.querySelector('#df-5f361a49-10bf-48da-ac96-2982984e85ad');\n",
              "          const dataTable =\n",
              "            await google.colab.kernel.invokeFunction('convertToInteractive',\n",
              "                                                     [key], {});\n",
              "          if (!dataTable) return;\n",
              "\n",
              "          const docLinkHtml = 'Like what you see? Visit the ' +\n",
              "            '<a target=\"_blank\" href=https://colab.research.google.com/notebooks/data_table.ipynb>data table notebook</a>'\n",
              "            + ' to learn more about interactive tables.';\n",
              "          element.innerHTML = '';\n",
              "          dataTable['output_type'] = 'display_data';\n",
              "          await google.colab.output.renderOutput(dataTable, element);\n",
              "          const docLink = document.createElement('div');\n",
              "          docLink.innerHTML = docLinkHtml;\n",
              "          element.appendChild(docLink);\n",
              "        }\n",
              "      </script>\n",
              "    </div>\n",
              "  </div>\n",
              "  "
            ]
          },
          "metadata": {},
          "execution_count": 16
        }
      ]
    },
    {
      "cell_type": "code",
      "source": [
        "predictions.to_csv('RF_Unbalanced_predictions.csv')"
      ],
      "metadata": {
        "id": "XkCKMAGqrlKD"
      },
      "execution_count": null,
      "outputs": []
    },
    {
      "cell_type": "code",
      "source": [
        "print(test_set.shape)\n",
        "print(test_feat.shape)\n",
        "print(test_feat_reduced.shape)\n",
        "print(predictions.shape)"
      ],
      "metadata": {
        "colab": {
          "base_uri": "https://localhost:8080/"
        },
        "id": "kDODsxr2sKsa",
        "outputId": "381800f5-8053-41bc-d7b4-25f6823f26c1"
      },
      "execution_count": null,
      "outputs": [
        {
          "output_type": "stream",
          "name": "stdout",
          "text": [
            "(4000, 189)\n",
            "(4000, 188)\n",
            "(4000, 123)\n",
            "(4000, 2)\n"
          ]
        }
      ]
    }
  ]
}